{
 "cells": [
  {
   "cell_type": "markdown",
   "id": "784faa5b-5bbe-49be-ab65-d66d2beb9471",
   "metadata": {},
   "source": [
    "# 1.- Intro e Instalación de Python"
   ]
  },
  {
   "cell_type": "code",
   "execution_count": null,
   "id": "bc5a44fa-4d8f-4be4-b197-c114e3024fff",
   "metadata": {},
   "outputs": [],
   "source": []
  },
  {
   "cell_type": "code",
   "execution_count": 1,
   "id": "1439d0d7-c9b5-41e0-8b93-bc29841efaf4",
   "metadata": {},
   "outputs": [
    {
     "data": {
      "text/plain": [
       "16"
      ]
     },
     "execution_count": 1,
     "metadata": {},
     "output_type": "execute_result"
    }
   ],
   "source": [
    "8+8\n"
   ]
  },
  {
   "cell_type": "code",
   "execution_count": 3,
   "id": "4e844dd1-7329-498a-84bc-9470b8fd80e2",
   "metadata": {},
   "outputs": [
    {
     "data": {
      "text/plain": [
       "83"
      ]
     },
     "execution_count": 3,
     "metadata": {},
     "output_type": "execute_result"
    }
   ],
   "source": [
    "5+78"
   ]
  },
  {
   "cell_type": "code",
   "execution_count": 5,
   "id": "5f0afa86-df8b-4126-a685-997111f76f19",
   "metadata": {},
   "outputs": [
    {
     "data": {
      "text/plain": [
       "2864"
      ]
     },
     "execution_count": 5,
     "metadata": {},
     "output_type": "execute_result"
    }
   ],
   "source": [
    "56*51+8"
   ]
  }
 ],
 "metadata": {
  "kernelspec": {
   "display_name": "Python 3 (ipykernel)",
   "language": "python",
   "name": "python3"
  },
  "language_info": {
   "codemirror_mode": {
    "name": "ipython",
    "version": 3
   },
   "file_extension": ".py",
   "mimetype": "text/x-python",
   "name": "python",
   "nbconvert_exporter": "python",
   "pygments_lexer": "ipython3",
   "version": "3.12.4"
  }
 },
 "nbformat": 4,
 "nbformat_minor": 5
}
